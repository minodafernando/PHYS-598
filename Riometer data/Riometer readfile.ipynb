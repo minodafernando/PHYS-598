{
 "cells": [
  {
   "cell_type": "markdown",
   "id": "395727bb-8a66-4a44-8a3e-5aa8e0d25616",
   "metadata": {},
   "source": [
    "## Riometer data readfile"
   ]
  },
  {
   "cell_type": "code",
   "execution_count": 15,
   "id": "58f341d6-84a6-457a-ad2d-404398525b94",
   "metadata": {},
   "outputs": [
    {
     "name": "stdout",
     "output_type": "stream",
     "text": [
      "length of time list 17279\n",
      "length of absp list 17279\n",
      "length of raw sig list 17279\n"
     ]
    }
   ],
   "source": [
    "import datetime\n",
    "\n",
    "# Define lists\n",
    "date = [] #do i even need the date cause it's the same year?\n",
    "time = []\n",
    "absorption = []\n",
    "raw_sig = []\n",
    "\n",
    "# Define filename\n",
    "filename = \"RD 2012-03-03.txt\"\n",
    "\n",
    "# open file to read\n",
    "fp = open(filename, 'r')\n",
    "\n",
    "# Define \"line\" to skip last line cause it's 24:00:02 which doesn't make sense\n",
    "#line = fp.readline()\n",
    "#line = line[:-1]\n",
    "\n",
    "for line in fp:\n",
    "    # skip comments\n",
    "    if line[0] == \"#\":\n",
    "        continue\n",
    "    else:\n",
    "        # strip line\n",
    "        line_strip = line.strip()\n",
    "        # split lines into lists\n",
    "        line_split = line.split()\n",
    "\n",
    "        # Define datetime format for time\n",
    "        format = \"%H:%M:%S\"\n",
    "\n",
    "        # Try-except to see if can convert to datetime\n",
    "        try:\n",
    "            res = bool(datetime.datetime.strptime(line_split[1], format))\n",
    "            this_time = datetime.datetime.strptime(line_split[1], format)\n",
    "\n",
    "            # Only append line to list if time checks true\n",
    "            \n",
    "            # append time to array\n",
    "            time.append(this_time)\n",
    "            # append absorption to array\n",
    "            absorption.append(line_split[2])\n",
    "            # append raw signals to array\n",
    "            raw_sig.append(line_split[3])\n",
    "        \n",
    "        except ValueError:\n",
    "            res = False\n",
    "\n",
    "print(\"length of time list\", len(time))\n",
    "print(\"length of absp list\", len(absorption))\n",
    "print(\"length of raw sig list\", len(raw_sig))\n",
    "\n",
    "fp.close()"
   ]
  },
  {
   "cell_type": "code",
   "execution_count": null,
   "id": "f5938b77-fa9b-44a6-8914-73c8afb92207",
   "metadata": {},
   "outputs": [],
   "source": []
  }
 ],
 "metadata": {
  "kernelspec": {
   "display_name": "Python 3 (ipykernel)",
   "language": "python",
   "name": "python3"
  },
  "language_info": {
   "codemirror_mode": {
    "name": "ipython",
    "version": 3
   },
   "file_extension": ".py",
   "mimetype": "text/x-python",
   "name": "python",
   "nbconvert_exporter": "python",
   "pygments_lexer": "ipython3",
   "version": "3.11.5"
  }
 },
 "nbformat": 4,
 "nbformat_minor": 5
}
