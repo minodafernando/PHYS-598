{
 "cells": [
  {
   "cell_type": "code",
   "execution_count": 4,
   "id": "1c292aaa-c44a-4c78-a7f0-9f92bac42b76",
   "metadata": {},
   "outputs": [
    {
     "name": "stdout",
     "output_type": "stream",
     "text": [
      "2012-01-23:0 {'hour': 0, 'avg_hEs': 80.2, 'avg_foEs': 1.9433333333333334, 'avg_absp': 3.655973611111113}\n",
      "2012-01-23:20 {'hour': 20, 'avg_hEs': 86.7, 'avg_foEs': 1.8733333333333333, 'avg_absp': 4.765973611111113}\n",
      "2012-03-01:8 {'hour': 8, 'avg_hEs': 85.2, 'avg_foEs': 1.8733333333333333, 'avg_absp': 5.765973611111113}\n"
     ]
    }
   ],
   "source": [
    "# Sample data\n",
    "data = {\n",
    "    '2012-01-23:20': {'hour': 20, 'avg_hEs': 86.7, 'avg_foEs': 1.8733333333333333, 'avg_absp': 4.765973611111113},\n",
    "    '2012-03-01:8': {'hour': 8, 'avg_hEs': 85.2, 'avg_foEs': 1.8733333333333333, 'avg_absp': 5.765973611111113},\n",
    "    '2012-01-23:0': {'hour': 0, 'avg_hEs': 80.2, 'avg_foEs': 1.9433333333333333, 'avg_absp': 3.655973611111113}\n",
    "    # Add more data here\n",
    "}\n",
    "\n",
    "# Sort the dictionary keys based on date:hour\n",
    "sorted_keys = sorted(data.keys())\n",
    "\n",
    "# Create a new sorted dictionary\n",
    "sorted_data = {key: data[key] for key in sorted_keys}\n",
    "\n",
    "# Output the sorted data\n",
    "for key, value in sorted_data.items():\n",
    "    print(key, value)\n"
   ]
  },
  {
   "cell_type": "code",
   "execution_count": null,
   "id": "09ce2bff-b0a9-4289-8656-d5bc971fb5a8",
   "metadata": {},
   "outputs": [],
   "source": []
  }
 ],
 "metadata": {
  "kernelspec": {
   "display_name": "Python 3 (ipykernel)",
   "language": "python",
   "name": "python3"
  },
  "language_info": {
   "codemirror_mode": {
    "name": "ipython",
    "version": 3
   },
   "file_extension": ".py",
   "mimetype": "text/x-python",
   "name": "python",
   "nbconvert_exporter": "python",
   "pygments_lexer": "ipython3",
   "version": "3.12.2"
  }
 },
 "nbformat": 4,
 "nbformat_minor": 5
}
