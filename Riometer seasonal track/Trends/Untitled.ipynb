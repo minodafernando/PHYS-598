{
 "cells": [
  {
   "cell_type": "code",
   "execution_count": 1,
   "id": "958cc3da-f95e-4b35-b424-888d78a982c5",
   "metadata": {},
   "outputs": [
    {
     "ename": "NameError",
     "evalue": "name 'colors' is not defined",
     "output_type": "error",
     "traceback": [
      "\u001b[1;31m---------------------------------------------------------------------------\u001b[0m",
      "\u001b[1;31mNameError\u001b[0m                                 Traceback (most recent call last)",
      "Cell \u001b[1;32mIn[1], line 18\u001b[0m\n\u001b[0;32m      9\u001b[0m hours \u001b[38;5;241m=\u001b[39m \u001b[38;5;28mlist\u001b[39m(\u001b[38;5;28mrange\u001b[39m(\u001b[38;5;241m24\u001b[39m))\n\u001b[0;32m     11\u001b[0m \u001b[38;5;66;03m# Define a single color\u001b[39;00m\n\u001b[0;32m     12\u001b[0m \u001b[38;5;66;03m#base_color = 'blue'\u001b[39;00m\n\u001b[0;32m     13\u001b[0m \n\u001b[1;32m   (...)\u001b[0m\n\u001b[0;32m     16\u001b[0m \n\u001b[0;32m     17\u001b[0m \u001b[38;5;66;03m# Create a colormap with 24 discrete colors\u001b[39;00m\n\u001b[1;32m---> 18\u001b[0m cmap \u001b[38;5;241m=\u001b[39m ListedColormap([plt\u001b[38;5;241m.\u001b[39mcm\u001b[38;5;241m.\u001b[39mjet(color) \u001b[38;5;28;01mfor\u001b[39;00m color \u001b[38;5;129;01min\u001b[39;00m \u001b[43mcolors\u001b[49m])\n\u001b[0;32m     20\u001b[0m \u001b[38;5;66;03m# Plotting\u001b[39;00m\n\u001b[0;32m     21\u001b[0m scatter \u001b[38;5;241m=\u001b[39m plt\u001b[38;5;241m.\u001b[39mscatter(avg_absorption, number_of_points_per_hour, c\u001b[38;5;241m=\u001b[39mhours, cmap\u001b[38;5;241m=\u001b[39mcmap)\n",
      "\u001b[1;31mNameError\u001b[0m: name 'colors' is not defined"
     ]
    }
   ],
   "source": [
    "import matplotlib.pyplot as plt\n",
    "import numpy as np\n",
    "from matplotlib.colors import ListedColormap\n",
    "\n",
    "# Generating random data for 24 hours\n",
    "np.random.seed(0)  # for reproducibility\n",
    "avg_absorption = np.random.randint(1, 10, 24)\n",
    "number_of_points_per_hour = np.random.randint(1, 15, 24)\n",
    "hours = list(range(24))\n",
    "\n",
    "# Define a single color\n",
    "#base_color = 'blue'\n",
    "\n",
    "# Vary intensity of the base color for different hours\n",
    "#colors = np.linspace(0, 1, 24)\n",
    "\n",
    "# Create a colormap with 24 discrete colors\n",
    "cmap = ListedColormap([plt.cm.jet(color) for color in colors])\n",
    "\n",
    "# Plotting\n",
    "scatter = plt.scatter(avg_absorption, number_of_points_per_hour, c=hours, cmap=cmap)\n",
    "\n",
    "# Labels and title\n",
    "plt.xlabel('Average Absorption')\n",
    "plt.ylabel('Number of Points Per Hour')\n",
    "plt.title('Scatter Plot with Hourly Color Gradient')\n",
    "\n",
    "# Add colorbar with 24 discrete squares\n",
    "cbar = plt.colorbar(scatter, ticks=np.arange(24))\n",
    "cbar.set_label('Hour')\n",
    "\n",
    "# Show plot\n",
    "plt.grid(True)\n",
    "plt.show()\n"
   ]
  },
  {
   "cell_type": "code",
   "execution_count": null,
   "id": "d1e92ba8-c332-4990-875e-2486166932c0",
   "metadata": {},
   "outputs": [],
   "source": []
  }
 ],
 "metadata": {
  "kernelspec": {
   "display_name": "Python 3 (ipykernel)",
   "language": "python",
   "name": "python3"
  },
  "language_info": {
   "codemirror_mode": {
    "name": "ipython",
    "version": 3
   },
   "file_extension": ".py",
   "mimetype": "text/x-python",
   "name": "python",
   "nbconvert_exporter": "python",
   "pygments_lexer": "ipython3",
   "version": "3.12.2"
  }
 },
 "nbformat": 4,
 "nbformat_minor": 5
}
