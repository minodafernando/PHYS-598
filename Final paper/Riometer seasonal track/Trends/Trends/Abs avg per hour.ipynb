{
 "cells": [
  {
   "cell_type": "markdown",
   "id": "32efdb21-f609-4499-8944-0184280e2e17",
   "metadata": {},
   "source": [
    "# Absorption average/peak per hour"
   ]
  },
  {
   "cell_type": "code",
   "execution_count": null,
   "id": "e6cf491f-f567-49e1-b345-1514b52366f7",
   "metadata": {},
   "outputs": [],
   "source": [
    "import datetime\n",
    "import urllib.request\n",
    "\n",
    "def avg_abs(sanitized_data):\n",
    "    "
   ]
  }
 ],
 "metadata": {
  "kernelspec": {
   "display_name": "Python 3 (ipykernel)",
   "language": "python",
   "name": "python3"
  },
  "language_info": {
   "codemirror_mode": {
    "name": "ipython",
    "version": 3
   },
   "file_extension": ".py",
   "mimetype": "text/x-python",
   "name": "python",
   "nbconvert_exporter": "python",
   "pygments_lexer": "ipython3",
   "version": "3.12.2"
  }
 },
 "nbformat": 4,
 "nbformat_minor": 5
}
