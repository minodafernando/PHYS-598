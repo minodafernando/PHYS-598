{
 "cells": [
  {
   "cell_type": "markdown",
   "id": "2988cf61-c13b-49a3-8137-91d7485cdaac",
   "metadata": {},
   "source": [
    "## Number of hEs points per hour as a function of average/peak riometer absorption in that hour"
   ]
  },
  {
   "cell_type": "markdown",
   "id": "f8a9b49b-d5a6-4d51-a2f1-4de212bd7e8e",
   "metadata": {},
   "source": [
    "#### 1) Get average riometer absorption per hour for the days:\n",
    "##### 1.  2012-01-23\n",
    "##### 2.  2012-02-07\n",
    "##### 3.  2012-03-01\n",
    "##### 4.  2012-03-07\n",
    "##### 5.  2012-03-08\n",
    "##### 6.  2012-03-13\n",
    "##### 7.  2012-03-15\n",
    "##### 8.  2012-04-03\n",
    "##### 9.  2012-04-25\n",
    "##### 10. 2012-07-06\n",
    "##### 11. 2012-11-01\n",
    "##### 12. 2012-11-07\n",
    "\n",
    "#### 2) Get hEs points per hour for those days\n",
    "#### 3) Plot"
   ]
  },
  {
   "cell_type": "code",
   "execution_count": null,
   "id": "3e559e64-1103-4837-b18f-92fbcd964569",
   "metadata": {},
   "outputs": [],
   "source": []
  }
 ],
 "metadata": {
  "kernelspec": {
   "display_name": "Python 3 (ipykernel)",
   "language": "python",
   "name": "python3"
  },
  "language_info": {
   "codemirror_mode": {
    "name": "ipython",
    "version": 3
   },
   "file_extension": ".py",
   "mimetype": "text/x-python",
   "name": "python",
   "nbconvert_exporter": "python",
   "pygments_lexer": "ipython3",
   "version": "3.11.5"
  }
 },
 "nbformat": 4,
 "nbformat_minor": 5
}
