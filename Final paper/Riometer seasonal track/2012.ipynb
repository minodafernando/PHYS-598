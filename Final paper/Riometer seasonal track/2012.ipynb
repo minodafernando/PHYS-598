{
 "cells": [
  {
   "cell_type": "markdown",
   "id": "48aaad4f-3340-4ac0-86a9-953d55a3aa51",
   "metadata": {
    "tags": []
   },
   "source": [
    "## 2012 rio k2 daws data - 3dB threshold check"
   ]
  },
  {
   "cell_type": "markdown",
   "id": "fee6bfb8-73f3-40e1-82a9-011f6827eec7",
   "metadata": {},
   "source": [
    "### Function to read riometer file"
   ]
  },
  {
   "cell_type": "markdown",
   "id": "1c541234-0b1c-471d-a2d1-2ac683ce0346",
   "metadata": {},
   "source": [
    "##### linesplit [0] - date (dd/mm/yy)\n",
    "##### linesplit [1] - time (UT)\n",
    "##### linesplit [2] - absorption (dB)\n",
    "##### linesplit [3] - raw signal (volts)"
   ]
  },
  {
   "cell_type": "code",
   "execution_count": 1,
   "id": "b1cf1edc-7677-49c5-8ed3-1beccd0543a9",
   "metadata": {
    "tags": []
   },
   "outputs": [],
   "source": [
    "import datetime\n",
    "import urllib.request\n",
    "\n",
    "# define riometer readfile function\n",
    "def rio_readfile(url):\n",
    "\n",
    "    # Define lists\n",
    "    #date = [] #do i even need the date cause it's the same year?\n",
    "    time = []\n",
    "    absorption = []\n",
    "    raw_sig = []\n",
    "\n",
    "    # Define filename\n",
    "    #filename = \"RD 2012-03-03.txt\"\n",
    "\n",
    "    # open file to read\n",
    "    response = urllib.request.urlopen(url)\n",
    "    html_response = response.read()\n",
    "    encoding = response.headers.get_content_charset(\"utf-8\")\n",
    "    fp = html_response.decode(encoding)\n",
    "\n",
    "    # define new list sanitized_data\n",
    "    # entry = [] list defined later, append datetime, absp, raw sig to it\n",
    "    # later append entry to sanitized_data so it will be lists within a list\n",
    "    sanitized_data = []\n",
    "    \n",
    "    for line in fp.splitlines():\n",
    "        #print(line)\n",
    "        #print(str(line))\n",
    "    \n",
    "        # skip comments\n",
    "        if line[0] == \"#\":\n",
    "            continue\n",
    "        else:\n",
    "            \n",
    "            # strip line\n",
    "            line_strip = line.strip()\n",
    "            # split lines into lists\n",
    "            line_split = line.split()\n",
    "            #print(line_split[1])\n",
    "\n",
    "            # Define datetime format for date and time\n",
    "            \n",
    "            format = \"%d%m%Y%H:%M:%S\"\n",
    "            \n",
    "            # split column 0 to month, date, year and make one row\n",
    "            month = str(line_split[0].split(\"/\")[1])\n",
    "            day = str(line_split[0].split(\"/\")[0])\n",
    "            year = \"20\" + str(line_split[0].split(\"/\")[2])\n",
    "                      \n",
    "            # change this to dd mm yy!!!!!!!!!!!\n",
    "            full_date = day + month + year + str(line_split[1])\n",
    "            \n",
    "            # Try-except to see if can convert to datetime\n",
    "            try:\n",
    "                res = bool(datetime.datetime.strptime(full_date, format))\n",
    "                this_time = datetime.datetime.strptime(full_date, format)\n",
    "\n",
    "                # Get rid of negative absorption values\n",
    "                if float(line_split[2]) < 0:\n",
    "                    continue\n",
    "                    \n",
    "                # Only append line to list if time checks true\n",
    "\n",
    "                # append time to array\n",
    "                time.append(this_time)\n",
    "                # append absorption to array\n",
    "                absorption.append(float(line_split[2]))\n",
    "                # append raw signals to array\n",
    "                raw_sig.append(line_split[3])\n",
    "\n",
    "                # define new list \n",
    "                entry = []\n",
    "                entry.append(this_time)\n",
    "                entry.append(line_split[2])\n",
    "                entry.append(line_split[3])\n",
    "                \n",
    "                sanitized_data.append(entry)\n",
    "                    \n",
    "            except ValueError:\n",
    "                res = False\n",
    "\n",
    "    #return sanitized_data\n",
    "    return sanitized_data, time, absorption, raw_sig\n",
    "    #return absorption\n",
    "    #return raw_sig"
   ]
  },
  {
   "cell_type": "markdown",
   "id": "537a0939-ff05-4ac0-b083-93a4ce532e9b",
   "metadata": {},
   "source": [
    "### Function to check days with absorption > 3dB"
   ]
  },
  {
   "cell_type": "code",
   "execution_count": 2,
   "id": "1fa2dff5-21c7-4ae9-baca-68a3d7e44ef8",
   "metadata": {
    "tags": []
   },
   "outputs": [],
   "source": [
    "\n",
    "# Define function high_abs to check days that have absp >3dB\n",
    "def high_abs(data):\n",
    "    \n",
    "    counter = 0\n",
    "    index = 0\n",
    "    \n",
    "    # threshold measurement: how many counts of 3dB absorption needed in a day to pass the check\n",
    "    thresh_meas = 30\n",
    "    \n",
    "    # threshold absorption: minimum dB value to meet\n",
    "    thresh_abs = 3\n",
    "    \n",
    "    # spike absorption: dB value threshold of spike\n",
    "    spike_abs = 10\n",
    "    \n",
    "    # for every line in data, if there's a day with thresh_mesh at >= 20 of dB >= 3, then return 1\n",
    "    while index < len(data):\n",
    "        for measurement in data:\n",
    "            # try except error cause some absorption values are ****\n",
    "            try:\n",
    "                if float(measurement[1]) <= spike_abs and float(measurement[1]) >= thresh_abs:\n",
    "                    counter += 1\n",
    "            except:\n",
    "                index += 1\n",
    "                continue\n",
    "\n",
    "        if counter > thresh_meas:\n",
    "            return counter, 1\n",
    "            \n",
    "        index += 1\n",
    "    \n",
    "    return 0"
   ]
  },
  {
   "cell_type": "markdown",
   "id": "a4ea215e-f664-4a39-bc52-30ff72192ed4",
   "metadata": {},
   "source": [
    "#### Testing high_abs function for 2012/03/03"
   ]
  },
  {
   "cell_type": "code",
   "execution_count": 3,
   "id": "bdcfe67d-23cf-490f-9614-c14c39b634bc",
   "metadata": {
    "tags": []
   },
   "outputs": [
    {
     "name": "stdout",
     "output_type": "stream",
     "text": [
      "check (0 or 1):  38\n",
      "number of absp vals >=3dB <= 10dB:  38\n"
     ]
    }
   ],
   "source": [
    "sanitized_data, time, absorption, raw_sig = rio_readfile(\"https://data.phys.ucalgary.ca/sort_by_project/GO-Canada/GO-Rio/txt/2012/03/02/norstar_k2_rio-daws_20120302_v01.txt\")\n",
    "\n",
    "counter, check = high_abs(sanitized_data)\n",
    "print(\"check (0 or 1): \", counter)\n",
    "count=0\n",
    "for line in absorption:\n",
    "    if line >= 3 and line <= 10:\n",
    "        count+= 1\n",
    "        \n",
    "print(\"number of absp vals >=3dB <= 10dB: \", count)"
   ]
  },
  {
   "cell_type": "markdown",
   "id": "54066cbf-507e-481f-aedd-1340d02758fd",
   "metadata": {
    "tags": []
   },
   "source": [
    "### Function to filter out spikes"
   ]
  },
  {
   "cell_type": "code",
   "execution_count": 4,
   "id": "35ae8dff-f471-4c4d-992e-efedb49dd769",
   "metadata": {
    "tags": []
   },
   "outputs": [],
   "source": [
    "import matplotlib.pyplot as plt\n",
    "def filter_spikes(times, absorptions, threshold, year_str, month_str, day_str, datetime_format, neighbor_count=10):\n",
    "    \"\"\"\n",
    "    Filter out absorption spikes where the value is greater than a threshold relative to the average of its neighbors.\n",
    "    \"\"\"\n",
    "    filtered_times = []\n",
    "    filtered_absorptions = []\n",
    "\n",
    "    for i in range(len(absorptions)):\n",
    "        # Determine the range for neighbors\n",
    "        start_index = max(i - neighbor_count, 0)\n",
    "        end_index = min(i + neighbor_count + 1, len(absorptions))\n",
    "\n",
    "        # Calculate the average of neighboring values\n",
    "        neighbor_avg = sum(absorptions[start_index:end_index]) / (end_index - start_index)\n",
    "\n",
    "        # Check if the current value is within the threshold relative to the neighbor average\n",
    "        if abs(absorptions[i] - neighbor_avg) <= threshold:\n",
    "            filtered_times.append(times[i])\n",
    "            filtered_absorptions.append(absorptions[i])\n",
    "    \n",
    "    def plot(filtered_times, filtered_absorptions):\n",
    "        title_header = \"{year} {month_name} {day} Riometer absorption (dB) vs time (UTC {time}) with threshold {threshold}\".format(year=year_str, month_name=month_str, day=day_str, time=datetime_format, threshold=threshold)\n",
    "        plt.figure()\n",
    "        plt.plot(filtered_times, filtered_absorptions)\n",
    "        plt.title(title_header)\n",
    "        plt.xlabel(\"Time (UTC) {time}\".format(time=datetime_format), fontsize=10)\n",
    "        plt.xticks(rotation=90)\n",
    "        plt.ylabel(\"Absorption (dB)\", fontsize=10)\n",
    "        plt.show()\n",
    "        #plt.savefig(\"output.pdf\")\n",
    "       \n",
    "    return plot(filtered_times, filtered_absorptions)"
   ]
  },
  {
   "cell_type": "markdown",
   "id": "1b0bdff0-6493-4139-9f57-542b852fe9a4",
   "metadata": {},
   "source": [
    "### 2012 3dB check"
   ]
  },
  {
   "cell_type": "markdown",
   "id": "33644b86-7007-4891-a95b-7b2fd4c12440",
   "metadata": {},
   "source": [
    "#### highdb is the list that all datetimes that passed the 3dB check is stored in along with their sanitized data list + counter\n",
    "\n",
    "#####    highdb[0] = datetime of first line in url (so first ever recorded time in a day's txt file)\n",
    "#####    highdb[1] = sanitized data\n",
    "#####    highdb[2] = counter"
   ]
  },
  {
   "cell_type": "markdown",
   "id": "05b95928-7fbc-46c2-8d47-bef3a8490440",
   "metadata": {},
   "source": [
    "### Issue Solved <3\n",
    "#### Issue to solve: highdb resets with each day I think. Check testing\n",
    "##### checked testing: server val exceeded or whatever\n",
    "##### possible solution: instead of putting all highdb dates to a list, put counters (value) of each day along with the datetime (key) to dictionary.\n",
    "##### OR, simply remove sanitized data out of highdb"
   ]
  },
  {
   "cell_type": "code",
   "execution_count": null,
   "id": "6e0e22eb-008e-444c-9fd1-08ef3e503599",
   "metadata": {
    "tags": []
   },
   "outputs": [],
   "source": [
    "from calendar import monthrange\n",
    "\n",
    "# define base URL and base year\n",
    "base = \"https://data.phys.ucalgary.ca/sort_by_project/GO-Canada/GO-Rio/txt/\"\n",
    "year = \"2012\"\n",
    "\n",
    "# new list to add days with dB >3\n",
    "highdb = {}\n",
    "\n",
    "# check every month of the year\n",
    "for month in range(1,13):\n",
    "    \n",
    "    # change month from example \"4\" to \"04\" for April (cause that's how it is in rio data)\n",
    "    month_str = str(month).zfill(2)\n",
    "    \n",
    "    # go through every day of the month\n",
    "    # with monthrange - auto day checker (like Jan 31 days, Feb 28 days etc.)\n",
    "    for day in range(1, monthrange(int(year), month)[1] +1):\n",
    "        \n",
    "        # change day from example \"9\" to \"09\"\n",
    "        day_str = str(day).zfill(2)\n",
    "        \n",
    "        # define new_base to replace year, month, and date with each url\n",
    "        new_base = \"https://data.phys.ucalgary.ca/sort_by_project/GO-Canada/GO-Rio/txt/{year}/{month}/{day}/norstar_k2_rio-daws_{year}{month}{day}_v01.txt\"\n",
    "        \n",
    "        try:\n",
    "            # read the url, return sanitized_data list\n",
    "            sanitized_data, time, absorption, raw_sig = rio_readfile(new_base.format(year = year, month = month_str, day = day_str))\n",
    "        \n",
    "            counter, check = high_abs(sanitized_data)\n",
    "            \n",
    "            if check == 1:\n",
    "                highdb[sanitized_data[day][0]] = counter\n",
    "                \n",
    "        except Exception as e:\n",
    "            continue"
   ]
  },
  {
   "cell_type": "markdown",
   "id": "7f1737ee-5eaa-4412-99dc-592c0cb9f291",
   "metadata": {},
   "source": [
    "### Get 10 days with the highest counter values"
   ]
  },
  {
   "cell_type": "code",
   "execution_count": null,
   "id": "07f18bfa-1edb-4fbb-a070-b7e208caabe2",
   "metadata": {
    "tags": []
   },
   "outputs": [],
   "source": [
    "top_test_max = dict(sorted(highdb.items(), key=lambda x: x[1], reverse=True)[:10])\n",
    "\n",
    "# list with top 10 days\n",
    "dates_list = []\n",
    "\n",
    "print(\"hi\")\n",
    "for key, value in top_test_max.items():\n",
    "    dates = (key, value)\n",
    "    dates_list.append(dates)\n",
    "\n",
    "\n",
    "for i in range(len(dates_list)):\n",
    "    ymd = dates_list[i][0].date()\n",
    "    \n",
    "    year_str = str(ymd.year)\n",
    "    month_str = str(ymd.month).zfill(2)\n",
    "    day_str = str(ymd.day).zfill(2)\n",
    "    \n",
    "    base_url = \"https://data.phys.ucalgary.ca/sort_by_project/GO-Canada/GO-Rio/txt/{year}/{month}/{day}/norstar_k2_rio-daws_{year}{month}{day}_v01.txt\"\n",
    "    \n",
    "    print(base_url.format(year = year_str, month = month_str, day = day_str))\n",
    "    sanitized_data, time, absorption, raw_sig = rio_readfile(base_url.format(year = year_str, month = month_str, day = day_str))\n",
    "    \n",
    "    threshold = 0.003\n",
    "    \n",
    "    filter_spikes(time, absorption, threshold, year_str, month_str, day_str, \"dd:mm:H\", neighbor_count=10)"
   ]
  },
  {
   "cell_type": "code",
   "execution_count": null,
   "id": "5d2f40e6-f545-4b18-95f9-51aeec28c4a6",
   "metadata": {
    "tags": []
   },
   "outputs": [],
   "source": [
    "# 2017 jan 2\n",
    "\n",
    "sanitized_data, time, absorption, raw_sig = rio_readfile(\"https://data.phys.ucalgary.ca/sort_by_project/GO-Canada/GO-Rio/txt/2012/03/08/norstar_k2_rio-daws_20120308_v01.txt\")\n",
    "\n",
    "threshold = 0.003\n",
    "filter_spikes(time, absorption, threshold, \"2012\", \"Mar\", \"08\", \"dd:mm:H\", neighbor_count=10)\n",
    "print(\"Length of time list:\", len(time))\n",
    "print(\"Length of absp list:\", len(absorption))"
   ]
  },
  {
   "cell_type": "code",
   "execution_count": null,
   "id": "f77fe356-1d95-423f-8aa5-deba99d8205a",
   "metadata": {
    "tags": []
   },
   "outputs": [],
   "source": [
    "# 2017 jan 2\n",
    "\n",
    "sanitized_data, time, absorption, raw_sig = rio_readfile(\"https://data.phys.ucalgary.ca/sort_by_project/GO-Canada/GO-Rio/txt/2012/03/07/norstar_k2_rio-daws_20120307_v01.txt\")\n",
    "\n",
    "threshold = 0.001\n",
    "filter_spikes(time, absorption, threshold, \"2012\", \"Mar\", \"07\", \"dd:mm:H\", neighbor_count=10)\n",
    "print(\"Length of time list:\", len(time))\n",
    "print(\"Length of absp list:\", len(absorption))"
   ]
  },
  {
   "cell_type": "code",
   "execution_count": null,
   "id": "01408dac-3b2a-4f54-bdbe-d115b0ec08b0",
   "metadata": {
    "tags": []
   },
   "outputs": [],
   "source": [
    "# 2017 jan 2\n",
    "\n",
    "sanitized_data, time, absorption, raw_sig = rio_readfile(\"https://data.phys.ucalgary.ca/sort_by_project/GO-Canada/GO-Rio/txt/2012/03/09/norstar_k2_rio-daws_20120309_v01.txt\")\n",
    "\n",
    "threshold = 0.001\n",
    "filter_spikes(time, absorption, threshold, \"2012\", \"Mar\", \"09\", \"dd:mm:H\", neighbor_count=10)\n",
    "print(\"Length of time list:\", len(time))\n",
    "print(\"Length of absp list:\", len(absorption))"
   ]
  },
  {
   "cell_type": "code",
   "execution_count": null,
   "id": "969b13e1-ee93-4aee-b739-a6ca916d8b53",
   "metadata": {
    "tags": []
   },
   "outputs": [],
   "source": [
    "# 2017 jan 2\n",
    "\n",
    "sanitized_data, time, absorption, raw_sig = rio_readfile(\"https://data.phys.ucalgary.ca/sort_by_project/GO-Canada/GO-Rio/txt/2012/03/01/norstar_k2_rio-daws_20120301_v01.txt\")\n",
    "\n",
    "threshold = 0.005\n",
    "filter_spikes(time, absorption, threshold, \"2012\", \"Mar\", \"01\", \"dd:mm:H\", neighbor_count=10)\n",
    "print(\"Length of time list:\", len(time))\n",
    "print(\"Length of absp list:\", len(absorption))"
   ]
  },
  {
   "cell_type": "code",
   "execution_count": null,
   "id": "86fcb4b3-a2b6-431a-b103-592608bcbeb3",
   "metadata": {
    "tags": []
   },
   "outputs": [],
   "source": [
    "# 2017 jan 2\n",
    "\n",
    "sanitized_data, time, absorption, raw_sig = rio_readfile(\"https://data.phys.ucalgary.ca/sort_by_project/GO-Canada/GO-Rio/txt/2012/11/01/norstar_k2_rio-daws_20121101_v01.txt\")\n",
    "\n",
    "threshold = 0.001\n",
    "filter_spikes(time, absorption, threshold, \"2012\", \"Nov\", \"01\", \"dd:mm:H\", neighbor_count=10)\n",
    "print(\"Length of time list:\", len(time))\n",
    "print(\"Length of absp list:\", len(absorption))"
   ]
  },
  {
   "cell_type": "code",
   "execution_count": null,
   "id": "aba02f0c-e163-47f1-965b-d40d5a75d406",
   "metadata": {
    "tags": []
   },
   "outputs": [],
   "source": [
    "# 2017 jan 2\n",
    "\n",
    "sanitized_data, time, absorption, raw_sig = rio_readfile(\"https://data.phys.ucalgary.ca/sort_by_project/GO-Canada/GO-Rio/txt/2012/03/10/norstar_k2_rio-daws_20120310_v01.txt\")\n",
    "\n",
    "threshold = 0.001\n",
    "filter_spikes(time, absorption, threshold, \"2012\", \"Mar\", \"10\", \"dd:mm:H\", neighbor_count=10)\n",
    "print(\"Length of time list:\", len(time))\n",
    "print(\"Length of absp list:\", len(absorption))"
   ]
  },
  {
   "cell_type": "code",
   "execution_count": null,
   "id": "0ae5b55a-db42-43fe-b090-411d2cc3f0f0",
   "metadata": {
    "tags": []
   },
   "outputs": [],
   "source": [
    "# 2017 jan 2\n",
    "\n",
    "sanitized_data, time, absorption, raw_sig = rio_readfile(\"https://data.phys.ucalgary.ca/sort_by_project/GO-Canada/GO-Rio/txt/2012/02/07/norstar_k2_rio-daws_20120207_v01.txt\")\n",
    "\n",
    "threshold = 0.005\n",
    "filter_spikes(time, absorption, threshold, \"2012\", \"Feb\", \"07\", \"dd:mm:H\", neighbor_count=10)\n",
    "print(\"Length of time list:\", len(time))\n",
    "print(\"Length of absp list:\", len(absorption))"
   ]
  },
  {
   "cell_type": "code",
   "execution_count": null,
   "id": "e40e09b9-502c-4869-acd6-4ccbc58cc3bd",
   "metadata": {
    "tags": []
   },
   "outputs": [],
   "source": [
    "# 2017 jan 2\n",
    "\n",
    "sanitized_data, time, absorption, raw_sig = rio_readfile(\"https://data.phys.ucalgary.ca/sort_by_project/GO-Canada/GO-Rio/txt/2012/07/06/norstar_k2_rio-daws_20120706_v01.txt\")\n",
    "\n",
    "threshold = 0.001\n",
    "filter_spikes(time, absorption, threshold, \"2012\", \"Jul\", \"06\", \"dd:mm:H\", neighbor_count=10)\n",
    "print(\"Length of time list:\", len(time))\n",
    "print(\"Length of absp list:\", len(absorption))"
   ]
  },
  {
   "cell_type": "code",
   "execution_count": null,
   "id": "b1bf0207-a504-4742-ae2d-03a883c5263f",
   "metadata": {
    "tags": []
   },
   "outputs": [],
   "source": [
    "# 2017 jan 2\n",
    "\n",
    "sanitized_data, time, absorption, raw_sig = rio_readfile(\"https://data.phys.ucalgary.ca/sort_by_project/GO-Canada/GO-Rio/txt/2012/04/03/norstar_k2_rio-daws_20120403_v01.txt\")\n",
    "\n",
    "threshold = 0.005\n",
    "filter_spikes(time, absorption, threshold, \"2012\", \"Apr\", \"03\", \"dd:mm:H\", neighbor_count=10)\n",
    "print(\"Length of time list:\", len(time))\n",
    "print(\"Length of absp list:\", len(absorption))"
   ]
  },
  {
   "cell_type": "code",
   "execution_count": null,
   "id": "a7e81ac4-d47b-4115-b91b-2254e320b9b0",
   "metadata": {
    "tags": []
   },
   "outputs": [],
   "source": [
    "# 2017 jan 2\n",
    "\n",
    "sanitized_data, time, absorption, raw_sig = rio_readfile(\"https://data.phys.ucalgary.ca/sort_by_project/GO-Canada/GO-Rio/txt/2012/11/07/norstar_k2_rio-daws_20121107_v01.txt\")\n",
    "\n",
    "threshold = 0.001\n",
    "filter_spikes(time, absorption, threshold, \"2012\", \"Nov\", \"07\", \"dd:mm:H\", neighbor_count=10)\n",
    "print(\"Length of time list:\", len(time))\n",
    "print(\"Length of absp list:\", len(absorption))"
   ]
  },
  {
   "cell_type": "markdown",
   "id": "5541a445-0812-4b09-a90d-1751fece5626",
   "metadata": {},
   "source": [
    "### Function to get 1st index (so 2nd element) of lists within a list"
   ]
  },
  {
   "cell_type": "code",
   "execution_count": null,
   "id": "3ab86289-da7d-4cb0-af41-798e2ee9ccae",
   "metadata": {},
   "outputs": [],
   "source": [
    "def get_first(seq):\n",
    "    if isinstance(seq, (tuple, list)):\n",
    "        return get_first(seq[1])\n",
    "    return seq\n",
    "\n",
    "def get_zero_list(seq):\n",
    "    return [get_first(i) for i in seq]"
   ]
  },
  {
   "cell_type": "markdown",
   "id": "9f048f92-68ee-473c-92f0-4475d744755f",
   "metadata": {},
   "source": [
    "### 2017, Jan 2 - time vs absorption"
   ]
  },
  {
   "cell_type": "code",
   "execution_count": null,
   "id": "208f8d8c-5098-407e-aa1f-66fa7f5733a4",
   "metadata": {},
   "outputs": [],
   "source": [
    "# 2017 jan 2\n",
    "\n",
    "sanitized_data, time, absorption, raw_sig = rio_readfile(\"https://data.phys.ucalgary.ca/sort_by_project/GO-Canada/GO-Rio/txt/2012/03/08/norstar_k2_rio-daws_20120308_v01.txt\")\n",
    "\n",
    "threshold = 0.005\n",
    "filter_spikes(time, absorption, threshold, \"2012\", \"Mar\", \"08\", \"mm:dd:H\", neighbor_count=10)\n",
    "print(\"Length of time list:\", len(time))\n",
    "print(\"Length of absp list:\", len(absorption))"
   ]
  },
  {
   "cell_type": "markdown",
   "id": "2b098aca-0883-4e82-80c9-1a0011018981",
   "metadata": {},
   "source": [
    "# Testing"
   ]
  },
  {
   "cell_type": "code",
   "execution_count": null,
   "id": "6c1d17a1-a05b-4983-bcc0-4ae5d47603a9",
   "metadata": {
    "tags": []
   },
   "outputs": [],
   "source": [
    "'''\n",
    "highdb = {}\n",
    "for day in range(1, 12):\n",
    "    day_str = str(day).zfill(2)\n",
    "    \n",
    "    new_base = \"https://data.phys.ucalgary.ca/sort_by_project/GO-Canada/GO-Rio/txt/{year}/{month}/{day}/norstar_k2_rio-daws_{year}{month}{day}_v01.txt\"\n",
    "    \n",
    "    try:\n",
    "        \n",
    "        sanitized_data, time, absorption, raw_sig = rio_readfile(new_base.format(year=\"2012\", month=\"03\", day=day_str))\n",
    "        \n",
    "        counter, check = high_abs(sanitized_data)\n",
    "        \n",
    "        if check == 1:\n",
    "            highdb[sanitized_data[day][0]] = counter\n",
    "                \n",
    "    except Exception as e:\n",
    "        continue\n",
    "        \n",
    "print(highdb)\n",
    "'''"
   ]
  },
  {
   "cell_type": "code",
   "execution_count": null,
   "id": "e4e310b1-78a9-4c3c-9449-b7aae38bf20c",
   "metadata": {
    "tags": []
   },
   "outputs": [],
   "source": [
    "#print(len(highdb))"
   ]
  },
  {
   "cell_type": "code",
   "execution_count": null,
   "id": "160dfa50-7c54-4a94-ae4d-d2e8173bc3d1",
   "metadata": {
    "tags": []
   },
   "outputs": [],
   "source": [
    "'''\n",
    "\n",
    "top_10_max = dict(sorted(highdb.items(), key=lambda x: x[1], reverse=True)[:10])\n",
    "\n",
    "print(\"top 10 vals:\")\n",
    "for key, value in top_10_max.items():\n",
    "    print(key, value)\n",
    "    \n",
    "'''"
   ]
  },
  {
   "cell_type": "code",
   "execution_count": null,
   "id": "33d0c87a-0a59-4111-b6f0-bc2bf2d2ccbb",
   "metadata": {},
   "outputs": [],
   "source": [
    "'''\n",
    "data = {'a': 10, 'b': 30, 'c': 0, 'd': 40, 'e': 33, 'f': 99}\n",
    "\n",
    "# Get the top 3 maximum values using the max() function\n",
    "top_3_max = dict(sorted(data.items(), key=lambda x: x[1], reverse=True)[:3])\n",
    "\n",
    "print(\"Top 3 maximum values:\")\n",
    "for key, value in top_3_max.items():\n",
    "    print(key + \":\", value)\n",
    "'''"
   ]
  },
  {
   "cell_type": "code",
   "execution_count": null,
   "id": "d216d6fb-5817-4255-8aba-d7671172ee52",
   "metadata": {
    "tags": []
   },
   "outputs": [],
   "source": [
    "'''\n",
    "data = {'a': 10, 'b': 30, 'c': 0, 'd': 40, 'e': 33, 'f': 99, 'g': 99}\n",
    "\n",
    "# Get the top 3 maximum values\n",
    "top_3_max_values = sorted(data.values(), reverse=True)[:3]\n",
    "\n",
    "print(\"Top 3 maximum values:\", top_3_max_values)\n",
    "'''"
   ]
  },
  {
   "cell_type": "code",
   "execution_count": null,
   "id": "a16aed68-ba49-4d93-8c1e-2a342f45181c",
   "metadata": {
    "tags": []
   },
   "outputs": [],
   "source": [
    "# Chatgpt function\n",
    "'''\n",
    "# Define function to check for high absorption values\n",
    "def high_abs(data):\n",
    "    \"\"\"\n",
    "    Check if there are high absorption values (> 3dB) in the data.\n",
    "    \n",
    "    Args:\n",
    "    - data: list of absorption values\n",
    "    \n",
    "    Returns:\n",
    "    - 1 if high absorption values are found, 0 otherwise\n",
    "    \"\"\"\n",
    "    thresh_meas = 30  # threshold measurement: how many counts of 3dB absorption needed in a day to pass the check\n",
    "    thresh_abs = 3  # threshold absorption: minimum dB value to meet\n",
    "    window_size = 5  # size of the window to consider for spike detection\n",
    "    spike_threshold = 20  # threshold for detecting a spike\n",
    "    \n",
    "    for i, measurement in enumerate(data):\n",
    "        # try except error cause some absorption values are \"****\"\n",
    "        try:\n",
    "            measurement_str = str(measurement)\n",
    "            abs_value = float(measurement_str)\n",
    "            if abs_value >= thresh_abs:\n",
    "                # Check if the current value is a spike\n",
    "                if has_spike(data, i, window_size, spike_threshold):\n",
    "                    continue  # Skip if it's a spike\n",
    "                else:\n",
    "                    counter += 1\n",
    "        except ValueError:\n",
    "            continue\n",
    "        \n",
    "        if counter > thresh_meas:\n",
    "            return 1\n",
    "    \n",
    "    return 0\n",
    "'''"
   ]
  },
  {
   "cell_type": "markdown",
   "id": "6df81af8-e3c0-4cdd-8b13-e637e9f2e3e1",
   "metadata": {},
   "source": [
    "### Function to filter out spikes in data set when looking for >3dB values"
   ]
  },
  {
   "cell_type": "code",
   "execution_count": null,
   "id": "6f4abdb7-0f50-45b1-bd08-1f6fe951d9e3",
   "metadata": {
    "tags": []
   },
   "outputs": [],
   "source": [
    "'''\n",
    "# Define function to check for spikes in absorption values\n",
    "def has_spike(data, index, window_size=5, spike_threshold=10):\n",
    "    \"\"\"\n",
    "    Check if there is a spike in absorption values around the given index.\n",
    "    \n",
    "    Args:\n",
    "    - data: list of absorption values\n",
    "    - index: index of the absorption value to check for spike\n",
    "    - window_size: size of the window around the index to consider for spike detection\n",
    "    - spike_threshold: threshold for detecting a spike\n",
    "    \n",
    "    Returns:\n",
    "    - True if a spike is detected, False otherwise\n",
    "    \"\"\"\n",
    "    start_index = max(0, index - window_size)\n",
    "    end_index = min(len(data), index + window_size + 1)\n",
    "    neighbors = data[start_index:end_index]\n",
    "    spike_count = sum(1 for value in neighbors if value >= spike_threshold)\n",
    "    return spike_count > 0\n",
    "'''"
   ]
  },
  {
   "cell_type": "code",
   "execution_count": null,
   "id": "b781608d-7690-4dc0-bf16-faea0d8d54cd",
   "metadata": {},
   "outputs": [],
   "source": []
  },
  {
   "cell_type": "code",
   "execution_count": null,
   "id": "01933108-2d09-4583-a5c3-8b447bd1ee4d",
   "metadata": {},
   "outputs": [],
   "source": []
  }
 ],
 "metadata": {
  "kernelspec": {
   "display_name": "Python 3 (ipykernel)",
   "language": "python",
   "name": "python3"
  },
  "language_info": {
   "codemirror_mode": {
    "name": "ipython",
    "version": 3
   },
   "file_extension": ".py",
   "mimetype": "text/x-python",
   "name": "python",
   "nbconvert_exporter": "python",
   "pygments_lexer": "ipython3",
   "version": "3.11.5"
  }
 },
 "nbformat": 4,
 "nbformat_minor": 5
}
