{
 "cells": [
  {
   "cell_type": "markdown",
   "id": "0cbfd8d6-17a7-4dab-b447-5ed9f82afa44",
   "metadata": {
    "tags": []
   },
   "source": [
    "## 2012-2017 rio k2 daws data - 3dB threshold check"
   ]
  },
  {
   "cell_type": "markdown",
   "id": "13e8bb1b-bff2-4979-bb4b-7ae4328998dc",
   "metadata": {
    "tags": []
   },
   "source": [
    "### Function to read riometer files"
   ]
  },
  {
   "cell_type": "markdown",
   "id": "5571eefb-ed2d-487f-b789-a45c5da6fb67",
   "metadata": {},
   "source": [
    "##### linesplit [0] - date (dd/mm/yy)\n",
    "##### linesplit [1] - time (UT)\n",
    "##### linesplit [2] - absorption (dB)\n",
    "##### linesplit [3] - raw signal (volts)"
   ]
  },
  {
   "cell_type": "code",
   "execution_count": 1,
   "id": "43f33e3d-33d3-4ab8-841e-75dbfcc17363",
   "metadata": {
    "tags": []
   },
   "outputs": [],
   "source": [
    "import datetime\n",
    "import urllib.request\n",
    "\n",
    "# define riometer readfile function\n",
    "def rio_readfile(url):\n",
    "\n",
    "    # Define lists\n",
    "    date = [] #do i even need the date cause it's the same year?\n",
    "    time = []\n",
    "    absorption = []\n",
    "    raw_sig = []\n",
    "\n",
    "    # Define filename\n",
    "    #filename = \"RD 2012-03-03.txt\"\n",
    "\n",
    "    # open file to read\n",
    "    response = urllib.request.urlopen(url)\n",
    "    html_response = response.read()\n",
    "    encoding = response.headers.get_content_charset(\"utf-8\")\n",
    "    fp = html_response.decode(encoding)\n",
    "\n",
    "    # define new list sanitized_data\n",
    "    # entry = [] list defined later, append datetime, absp, raw sig to it\n",
    "    # later append entry to sanitized_data so it will be lists within a list\n",
    "    sanitized_data = []\n",
    "    \n",
    "    for line in fp.splitlines():\n",
    "        #print(line)\n",
    "        #print(str(line))\n",
    "    \n",
    "        # skip comments\n",
    "        if line[0] == \"#\":\n",
    "            continue\n",
    "        else:\n",
    "            \n",
    "            # strip line\n",
    "            line_strip = line.strip()\n",
    "            # split lines into lists\n",
    "            line_split = line.split()\n",
    "            #print(line_split[1])\n",
    "\n",
    "            # Define datetime format for date and time\n",
    "            \n",
    "            format = \"%d%m%Y%H:%M:%S\"\n",
    "            \n",
    "            # split column 0 to month, date, year and make one row\n",
    "            month = str(line_split[0].split(\"/\")[1])\n",
    "            day = str(line_split[0].split(\"/\")[0])\n",
    "            year = \"20\" + str(line_split[0].split(\"/\")[2])\n",
    "                      \n",
    "            full_date = day + month + year + str(line_split[1])\n",
    "            \n",
    "            # Try-except to see if can convert to datetime\n",
    "            try:\n",
    "                res = bool(datetime.datetime.strptime(full_date, format))\n",
    "                this_time = datetime.datetime.strptime(full_date, format)\n",
    "\n",
    "                # Only append line to list if time checks true\n",
    "\n",
    "                # append time to array\n",
    "                time.append(this_time)\n",
    "                # append absorption to array\n",
    "                absorption.append(float(line_split[2]))\n",
    "                # append raw signals to array\n",
    "                raw_sig.append(line_split[3])\n",
    "\n",
    "                # define new list \n",
    "                entry = []\n",
    "                entry.append(this_time)\n",
    "                entry.append(line_split[2])\n",
    "                entry.append(line_split[3])\n",
    "                \n",
    "                sanitized_data.append(entry)\n",
    "                    \n",
    "            except ValueError:\n",
    "                res = False\n",
    "\n",
    "    #return sanitized_data\n",
    "    return sanitized_data, time, absorption, raw_sig\n",
    "    #return absorption\n",
    "    #return raw_sig"
   ]
  },
  {
   "cell_type": "markdown",
   "id": "86145f40-0b99-43b5-af00-b8869dab09c2",
   "metadata": {},
   "source": [
    "### Function to check days with absorption > 3dB"
   ]
  },
  {
   "cell_type": "code",
   "execution_count": 6,
   "id": "07acb39d-ce48-4a8a-a434-7060e9bd1388",
   "metadata": {
    "tags": []
   },
   "outputs": [],
   "source": [
    "# Define function high_abs to check days that have absp >3dB\n",
    "def high_abs(data):\n",
    "    \n",
    "    counter = 0\n",
    "    \n",
    "    # threshold measurement: how many counts of 3dB absorption needed in a day to pass the check\n",
    "    thresh_meas = 30\n",
    "    \n",
    "    # threshold absorption: minimum dB value to meet\n",
    "    thresh_abs = 3\n",
    "    \n",
    "    # for every line in data, if there's a day with thresh_mesh at >= 20 of dB >= 3, then return 1\n",
    "    for measurement in data:\n",
    "        # try except error cause some absorption values are ****\n",
    "        try:\n",
    "            if float(measurement[1]) >= thresh_abs:\n",
    "                counter += 1\n",
    "        except:\n",
    "            continue\n",
    "        \n",
    "        if counter > thresh_meas:\n",
    "            return 1\n",
    "    \n",
    "    return 0"
   ]
  },
  {
   "cell_type": "markdown",
   "id": "1ed7a996-6d9d-4fca-bea1-e2279e5de208",
   "metadata": {},
   "source": [
    "### Get 1 (if 3dB check passes) or 0 (3dB check doesn't pass) for each day of 2012-2017"
   ]
  },
  {
   "cell_type": "code",
   "execution_count": 10,
   "id": "8dafb572-15df-486b-ac21-7073e05fb632",
   "metadata": {
    "tags": []
   },
   "outputs": [],
   "source": [
    "from calendar import monthrange\n",
    "\n",
    "# define base URL and base start/end year\n",
    "base = \"https://data.phys.ucalgary.ca/sort_by_project/GO-Canada/GO-Rio/txt/\"\n",
    "\n",
    "start_year = 2012\n",
    "end_year = 2017\n",
    "\n",
    "# check 2012-2017\n",
    "for year in range(start_year, end_year + 1):\n",
    "    year_str = str(year)\n",
    "    # check every month of the year\n",
    "    for month in range(1,13):\n",
    "\n",
    "        # change month from example \"4\" to \"04\" for April (cause that's how it is in rio data)\n",
    "        month_str = str(month).zfill(2)\n",
    "\n",
    "        # go through every day of the month\n",
    "        # with monthrange - auto day checker (like Jan 31 days, Feb 28 days etc.)\n",
    "        for day in range(1, monthrange(int(year), month)[1] +1):\n",
    "\n",
    "            days_3db = []\n",
    "            # change day from example \"9\" to \"09\"\n",
    "            day_str = str(day).zfill(2)\n",
    "\n",
    "            # define new_base to replace year, month, and date with each url\n",
    "            new_base = \"https://data.phys.ucalgary.ca/sort_by_project/GO-Canada/GO-Rio/txt/{year}/{month}/{day}/norstar_k2_rio-daws_{year}{month}{day}_v01.txt\"\n",
    "\n",
    "            try:\n",
    "                # read the url, return sanitized_data list\n",
    "                sanitized_data, time, absorption, raw_sig = rio_readfile(new_base.format(year = year_str, month = month_str, day = day_str))\n",
    "\n",
    "                # print/return 0 or 1 for each day of the year\n",
    "                check = high_abs(sanitized_data)\n",
    "                #print(\"year:\", year_str, \"\", \"month:\", month_str, \"\", \"day:\", day_str, \"-\", check)\n",
    "\n",
    "            except Exception as e:\n",
    "                #print(\"year:\", year_str, \"\", \"month:\", month_str, \"\", \"day:\", day_str, \"-\", f\"Error occurred while processing {new_base.format(year=year_str, month=month_str, day=day_str)}:\", str(e))\n",
    "                continue\n",
    "                \n",
    "                \n",
    "            "
   ]
  },
  {
   "cell_type": "markdown",
   "id": "8e8f6377-fe50-4947-8dc5-1a8e3f0bc03f",
   "metadata": {},
   "source": [
    "### Function to get 10 largest dB count UT days from 2012-2017"
   ]
  },
  {
   "cell_type": "code",
   "execution_count": 9,
   "id": "a4169a0d-4240-4714-bf97-a9094caccfd0",
   "metadata": {
    "tags": []
   },
   "outputs": [],
   "source": [
    "import heapq\n",
    "\n"
   ]
  },
  {
   "cell_type": "code",
   "execution_count": null,
   "id": "6bc01264-8e82-489f-9ffa-1ce806bcf00a",
   "metadata": {},
   "outputs": [],
   "source": []
  }
 ],
 "metadata": {
  "kernelspec": {
   "display_name": "Python 3 (ipykernel)",
   "language": "python",
   "name": "python3"
  },
  "language_info": {
   "codemirror_mode": {
    "name": "ipython",
    "version": 3
   },
   "file_extension": ".py",
   "mimetype": "text/x-python",
   "name": "python",
   "nbconvert_exporter": "python",
   "pygments_lexer": "ipython3",
   "version": "3.11.5"
  }
 },
 "nbformat": 4,
 "nbformat_minor": 5
}
