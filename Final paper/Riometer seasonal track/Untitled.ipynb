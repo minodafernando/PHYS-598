{
 "cells": [
  {
   "cell_type": "code",
   "execution_count": null,
   "id": "1aaeab35-ee79-4bf1-927a-b91c6f4c02e3",
   "metadata": {},
   "outputs": [],
   "source": [
    "import pandas as pd\n",
    "\n",
    "url = \"https://data.phys.ucalgary.ca/sort_by_project/GO-Canada/GO-Rio/txt/2017/01/01/norstar_k2_rio-daws_20170101_v01.txt\"\n"
   ]
  }
 ],
 "metadata": {
  "kernelspec": {
   "display_name": "Python 3 (ipykernel)",
   "language": "python",
   "name": "python3"
  },
  "language_info": {
   "codemirror_mode": {
    "name": "ipython",
    "version": 3
   },
   "file_extension": ".py",
   "mimetype": "text/x-python",
   "name": "python",
   "nbconvert_exporter": "python",
   "pygments_lexer": "ipython3",
   "version": "3.11.5"
  }
 },
 "nbformat": 4,
 "nbformat_minor": 5
}
